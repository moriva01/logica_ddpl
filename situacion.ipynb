{
 "cells": [
  {
   "cell_type": "markdown",
   "metadata": {},
   "source": [
    "# Problema de los interruptores y las bombillas <a class=\"anchor\" id=\"inicio\"></a>\n",
    "\n",
    "Proyecto final - lógica para ciencias de la computación\n",
    "\n",
    "1. Joseph Doqueresana\n",
    "2. Ivan Moreno"
   ]
  },
  {
   "cell_type": "markdown",
   "metadata": {},
   "source": [
    "## Situación a representar <a class=\"anchor\" id=\"prob\"></a>\n",
    "\n",
    "En una habitación hay tres interruptores y tres bombillas, pero no\n",
    "está claro cuál interruptor controla cada bombilla. Solo puedes\n",
    "ingresar a la habitación una vez. El objetivo es determinar qué\n",
    "interruptor está asociado con qué bombilla utilizando la\n",
    "información observada después de una sola visita a la habitación"
   ]
  },
  {
   "cell_type": "markdown",
   "metadata": {},
   "source": [
    "Información disponible:\n",
    "\n",
    "1. Interruptores: Hay tres interruptores en la habitación, numerados del 1 al 3.\n",
    "2. Bombillas: También hay tres bombillas, numeradas del 1 al 3.\n",
    "3. Estado inicial: Al comienzo, todos los interruptores y bombillas están apagados.\n",
    "4. Acciones permitidas: Solo puedes realizar dos acciones:\n",
    "\n",
    "        a. Encender uno de los interruptores.\n",
    "        b. Ingresar a la habitación."
   ]
  },
  {
   "cell_type": "markdown",
   "metadata": {},
   "source": [
    "Restricciones:\n",
    "\n",
    "1. Una sola visita: Solo se permite ingresar a la habitación una vez.\n",
    "2. Unicidad de la iluminación: Cuando se enciende un interruptor, solo una bombilla se enciende y las otras dos permanecen apagadas.\n",
    "3. Observación de resultados: Después de encender un interruptor y entrar en la habitación, solo puedes observar el estado de las bombillas.\n",
    "\n",
    "Con estas restricciones, aseguramos que cada acción tenga un efecto único y claro en el estado de las bombillas, lo que nos permite deducir correctamente la asociación entre los interruptores\n",
    "y las bombillas."
   ]
  },
  {
   "cell_type": "markdown",
   "metadata": {},
   "source": [
    "## Estrategia de resolución <a class=\"anchor\" id=\"prob\"></a>\n",
    "\n",
    "1. Enciende uno de los interruptores y deja que las bombillas permanezcan encendidas durante un tiempo corto.\n",
    "2. Apaga el interruptor previamente encendido y enciende otro interruptor.\n",
    "3. Ingresa a la habitación y observa el estado de las bombillas.\n",
    "4. Utiliza las observaciones para deducir qué interruptor controla cada bombilla.\n",
    "\n",
    "Encendemos el interruptor 1 y dejamos las bombillas encendidas brevemente.\n",
    "Luego, apagamos el interruptor 1 y encendemos el interruptor 2. Al entrar en\n",
    "la habitación, si identificamos la bombilla como encendida estará relacionada\n",
    "con el interruptor 2,si la bombilla esta apagada pero caliente con el interruptor\n",
    "1 y si la bombilla esta apagada y fría con el interruptor 3.\n",
    "Esta estrategia nos permite determinar qué interruptor controla cada bombilla\n",
    "con una sola visita."
   ]
  },
  {
   "cell_type": "markdown",
   "metadata": {},
   "source": [
    "# Implementación de restricciones <a class=\"anchor\" id=\"imp\"></a>\n",
    "\n",
    "Vamos a representar las posibles combinaciones de estados de las bombillas y los interruptores con proposiciones lógicas. Utilizaremos letras para representar cada elemento y asignaremos valores lógicos para indicar si están encendidos o apagados.\n"
   ]
  },
  {
   "cell_type": "code",
   "execution_count": 1,
   "metadata": {},
   "outputs": [],
   "source": [
    "from problema import Bombillas # importa ña solucion (reglas del problema)\n",
    "from paquete_logico import * # paquete de formulas logicas"
   ]
  },
  {
   "cell_type": "code",
   "execution_count": 2,
   "metadata": {},
   "outputs": [],
   "source": [
    "problemaa = Bombillas() #instanciar el problema"
   ]
  },
  {
   "cell_type": "code",
   "execution_count": 3,
   "metadata": {},
   "outputs": [
    {
     "data": {
      "text/plain": [
       "['(((((((((ĉ=(((ĀYĒ)O(ăYĕ))O(ĆYĘ)))Y(Č=(((ĀYē)O(ăYĖ))O(ĆYę))))Y(ď=(((ĀYĔ)O(ăYė))O(ĆYĚ))))Y(Ċ=(((āYĒ)O(ĄYĕ))O(ćYĘ))))Y(č=(((āYē)O(ĄYĖ))O(ćYę))))Y(Đ=(((āYĔ)O(ĄYė))O(ćYĚ))))Y(ċ=(((ĂYĒ)O(ąYĕ))O(ĈYĘ))))Y(Ď=(((ĂYē)O(ąYĖ))O(ĈYę))))Y(đ=(((ĂYĔ)O(ąYė))O(ĈYĚ))))',\n",
       " '((((ĉOČ)Oď)Y((ĊOč)OĐ))Y((ċOĎ)Ođ))',\n",
       " '((((ĉOĊ)Oċ)Y((ČOč)OĎ))Y((ďOĐ)Ođ))',\n",
       " '(((((((((ĉ>-(ČOď))Y(Č>-(ĉOď)))Y(ď>-(ĉOČ)))Y(Ċ>-(čOĐ)))Y(č>-(ĊOĐ)))Y(Đ>-(ĊOč)))Y(ċ>-(ĎOđ)))Y(Ď>-(ċOđ)))Y(đ>-(ċOĎ)))',\n",
       " '(((((((((ĉ>-(ĊOċ))Y(Ċ>-(ĉOċ)))Y(ċ>-(ĉOĊ)))Y(Č>-(čOĎ)))Y(č>-(ČOĎ)))Y(Ď>-(ČOč)))Y(ď>-(ĐOđ)))Y(Đ>-(ďOđ)))Y(đ>-(ďOĐ)))']"
      ]
     },
     "execution_count": 3,
     "metadata": {},
     "output_type": "execute_result"
    }
   ],
   "source": [
    "problemaa.regla #todas las relgas del problema (codificadas)"
   ]
  },
  {
   "cell_type": "markdown",
   "metadata": {},
   "source": [
    "Si una bombilla está encendida, su interruptor también debe estar encendido\n",
    "\n",
    "$$\\bigwedge_{b,i} \\left( Pertenece(b,i) \\iff \\left( \\bigvee_e \\left( Bombilla(b,e) \\wedge Interruptor(i,e) \\right) \\right) \\right)$$"
   ]
  },
  {
   "cell_type": "code",
   "execution_count": 4,
   "metadata": {},
   "outputs": [
    {
     "data": {
      "text/plain": [
       "'(((((((((El Interruptor 1 pertenece a bombillo 1 sii (((El bomillo 1 está Encendido Y El interruptor 1 está Encendido) O (El bomillo 1 está Apagado Y El interruptor 1 está Apagado)) O (El bomillo 1 está Caliente Y El interruptor 1 está Encendido y luego apagado))) Y (El Interruptor 2 pertenece a bombillo 1 sii (((El bomillo 1 está Encendido Y El interruptor 2 está Encendido) O (El bomillo 1 está Apagado Y El interruptor 2 está Apagado)) O (El bomillo 1 está Caliente Y El interruptor 2 está Encendido y luego apagado)))) Y (El Interruptor 3 pertenece a bombillo 1 sii (((El bomillo 1 está Encendido Y El interruptor 3 está Encendido) O (El bomillo 1 está Apagado Y El interruptor 3 está Apagado)) O (El bomillo 1 está Caliente Y El interruptor 3 está Encendido y luego apagado)))) Y (El Interruptor 1 pertenece a bombillo 2 sii (((El bomillo 2 está Encendido Y El interruptor 1 está Encendido) O (El bomillo 2 está Apagado Y El interruptor 1 está Apagado)) O (El bomillo 2 está Caliente Y El interruptor 1 está Encendido y luego apagado)))) Y (El Interruptor 2 pertenece a bombillo 2 sii (((El bomillo 2 está Encendido Y El interruptor 2 está Encendido) O (El bomillo 2 está Apagado Y El interruptor 2 está Apagado)) O (El bomillo 2 está Caliente Y El interruptor 2 está Encendido y luego apagado)))) Y (El Interruptor 3 pertenece a bombillo 2 sii (((El bomillo 2 está Encendido Y El interruptor 3 está Encendido) O (El bomillo 2 está Apagado Y El interruptor 3 está Apagado)) O (El bomillo 2 está Caliente Y El interruptor 3 está Encendido y luego apagado)))) Y (El Interruptor 1 pertenece a bombillo 3 sii (((El bomillo 3 está Encendido Y El interruptor 1 está Encendido) O (El bomillo 3 está Apagado Y El interruptor 1 está Apagado)) O (El bomillo 3 está Caliente Y El interruptor 1 está Encendido y luego apagado)))) Y (El Interruptor 2 pertenece a bombillo 3 sii (((El bomillo 3 está Encendido Y El interruptor 2 está Encendido) O (El bomillo 3 está Apagado Y El interruptor 2 está Apagado)) O (El bomillo 3 está Caliente Y El interruptor 2 está Encendido y luego apagado)))) Y (El Interruptor 3 pertenece a bombillo 3 sii (((El bomillo 3 está Encendido Y El interruptor 3 está Encendido) O (El bomillo 3 está Apagado Y El interruptor 3 está Apagado)) O (El bomillo 3 está Caliente Y El interruptor 3 está Encendido y luego apagado))))'"
      ]
     },
     "execution_count": 4,
     "metadata": {},
     "output_type": "execute_result"
    }
   ],
   "source": [
    "problemaa.escribirFormula(problemaa.regla[0]) # regla 1 como (decodificada)"
   ]
  },
  {
   "cell_type": "markdown",
   "metadata": {},
   "source": [
    "todo bombillo le pertenece algún interruptor\n",
    "\n",
    "$$ \\bigwedge_{b} \\left( \\text{Estado}(b) \\iff \\left( \\bigvee_i \\text{Pertenece}(b,i) \\wedge \\text{Estado}(i) \\right) \\right)$$"
   ]
  },
  {
   "cell_type": "code",
   "execution_count": 5,
   "metadata": {},
   "outputs": [
    {
     "data": {
      "text/plain": [
       "'((((El Interruptor 1 pertenece a bombillo 1 O El Interruptor 2 pertenece a bombillo 1) O El Interruptor 3 pertenece a bombillo 1) Y ((El Interruptor 1 pertenece a bombillo 2 O El Interruptor 2 pertenece a bombillo 2) O El Interruptor 3 pertenece a bombillo 2)) Y ((El Interruptor 1 pertenece a bombillo 3 O El Interruptor 2 pertenece a bombillo 3) O El Interruptor 3 pertenece a bombillo 3))'"
      ]
     },
     "execution_count": 5,
     "metadata": {},
     "output_type": "execute_result"
    }
   ],
   "source": [
    "problemaa.escribirFormula(problemaa.regla[1]) # regla 2 como (decodificada)"
   ]
  },
  {
   "cell_type": "markdown",
   "metadata": {},
   "source": [
    "Todo interruptor pertenece a algún bombillo\n",
    "\n",
    "$$ \\bigwedge_{i} \\left( \\text{Estado}(i) \\iff \\left( \\bigvee_b \\text{Pertenece}(b,i) \\wedge \\text{Estado}(b) \\right) \\right)$$"
   ]
  },
  {
   "cell_type": "code",
   "execution_count": 6,
   "metadata": {},
   "outputs": [
    {
     "data": {
      "text/plain": [
       "'((((El Interruptor 1 pertenece a bombillo 1 O El Interruptor 1 pertenece a bombillo 2) O El Interruptor 1 pertenece a bombillo 3) Y ((El Interruptor 2 pertenece a bombillo 1 O El Interruptor 2 pertenece a bombillo 2) O El Interruptor 2 pertenece a bombillo 3)) Y ((El Interruptor 3 pertenece a bombillo 1 O El Interruptor 3 pertenece a bombillo 2) O El Interruptor 3 pertenece a bombillo 3))'"
      ]
     },
     "execution_count": 6,
     "metadata": {},
     "output_type": "execute_result"
    }
   ],
   "source": [
    "problemaa.escribirFormula(problemaa.regla[2]) # regla 3 como (decodificada)"
   ]
  },
  {
   "cell_type": "markdown",
   "metadata": {},
   "source": [
    "\n",
    "Un bombillo no puede tener más de un interruptor\n",
    "\n",
    "$$ \\bigwedge_{b, i} \\left( \\text{Pertenece}(b, i) \\rightarrow \\neg \\left( \\bigvee_{i' \\neq i} \\text{Pertenece}(b, i') \\right) \\right)$$"
   ]
  },
  {
   "cell_type": "code",
   "execution_count": 7,
   "metadata": {},
   "outputs": [
    {
     "data": {
      "text/plain": [
       "'(((((((((El Interruptor 1 pertenece a bombillo 1 >  no (El Interruptor 2 pertenece a bombillo 1 O El Interruptor 3 pertenece a bombillo 1)) Y (El Interruptor 2 pertenece a bombillo 1 >  no (El Interruptor 1 pertenece a bombillo 1 O El Interruptor 3 pertenece a bombillo 1))) Y (El Interruptor 3 pertenece a bombillo 1 >  no (El Interruptor 1 pertenece a bombillo 1 O El Interruptor 2 pertenece a bombillo 1))) Y (El Interruptor 1 pertenece a bombillo 2 >  no (El Interruptor 2 pertenece a bombillo 2 O El Interruptor 3 pertenece a bombillo 2))) Y (El Interruptor 2 pertenece a bombillo 2 >  no (El Interruptor 1 pertenece a bombillo 2 O El Interruptor 3 pertenece a bombillo 2))) Y (El Interruptor 3 pertenece a bombillo 2 >  no (El Interruptor 1 pertenece a bombillo 2 O El Interruptor 2 pertenece a bombillo 2))) Y (El Interruptor 1 pertenece a bombillo 3 >  no (El Interruptor 2 pertenece a bombillo 3 O El Interruptor 3 pertenece a bombillo 3))) Y (El Interruptor 2 pertenece a bombillo 3 >  no (El Interruptor 1 pertenece a bombillo 3 O El Interruptor 3 pertenece a bombillo 3))) Y (El Interruptor 3 pertenece a bombillo 3 >  no (El Interruptor 1 pertenece a bombillo 3 O El Interruptor 2 pertenece a bombillo 3)))'"
      ]
     },
     "execution_count": 7,
     "metadata": {},
     "output_type": "execute_result"
    }
   ],
   "source": [
    "problemaa.escribirFormula(problemaa.regla[3]) # regla 4 como (decodificada)"
   ]
  },
  {
   "cell_type": "markdown",
   "metadata": {},
   "source": [
    "Un interruptor no pertenece a más de un bombillo\n",
    "\n",
    "$$ \\bigwedge_{i, b} \\left( \\text{Pertenece}(b, i) \\rightarrow \\neg \\left( \\bigvee_{b' \\neq b} \\text{Pertenece}(b', i) \\right) \\right)$$"
   ]
  },
  {
   "cell_type": "code",
   "execution_count": 8,
   "metadata": {},
   "outputs": [
    {
     "data": {
      "text/plain": [
       "'(((((((((El Interruptor 1 pertenece a bombillo 1 >  no (El Interruptor 1 pertenece a bombillo 2 O El Interruptor 1 pertenece a bombillo 3)) Y (El Interruptor 1 pertenece a bombillo 2 >  no (El Interruptor 1 pertenece a bombillo 1 O El Interruptor 1 pertenece a bombillo 3))) Y (El Interruptor 1 pertenece a bombillo 3 >  no (El Interruptor 1 pertenece a bombillo 1 O El Interruptor 1 pertenece a bombillo 2))) Y (El Interruptor 2 pertenece a bombillo 1 >  no (El Interruptor 2 pertenece a bombillo 2 O El Interruptor 2 pertenece a bombillo 3))) Y (El Interruptor 2 pertenece a bombillo 2 >  no (El Interruptor 2 pertenece a bombillo 1 O El Interruptor 2 pertenece a bombillo 3))) Y (El Interruptor 2 pertenece a bombillo 3 >  no (El Interruptor 2 pertenece a bombillo 1 O El Interruptor 2 pertenece a bombillo 2))) Y (El Interruptor 3 pertenece a bombillo 1 >  no (El Interruptor 3 pertenece a bombillo 2 O El Interruptor 3 pertenece a bombillo 3))) Y (El Interruptor 3 pertenece a bombillo 2 >  no (El Interruptor 3 pertenece a bombillo 1 O El Interruptor 3 pertenece a bombillo 3))) Y (El Interruptor 3 pertenece a bombillo 3 >  no (El Interruptor 3 pertenece a bombillo 1 O El Interruptor 3 pertenece a bombillo 2)))'"
      ]
     },
     "execution_count": 8,
     "metadata": {},
     "output_type": "execute_result"
    }
   ],
   "source": [
    "problemaa.escribirFormula(problemaa.regla[4]) # regla 5 como (decodificada)"
   ]
  },
  {
   "cell_type": "code",
   "execution_count": 9,
   "metadata": {
    "scrolled": true
   },
   "outputs": [
    {
     "data": {
      "text/plain": [
       "'(((((((((((((El Interruptor 1 pertenece a bombillo 1 sii (((El bomillo 1 está Encendido Y El interruptor 1 está Encendido) O (El bomillo 1 está Apagado Y El interruptor 1 está Apagado)) O (El bomillo 1 está Caliente Y El interruptor 1 está Encendido y luego apagado))) Y (El Interruptor 2 pertenece a bombillo 1 sii (((El bomillo 1 está Encendido Y El interruptor 2 está Encendido) O (El bomillo 1 está Apagado Y El interruptor 2 está Apagado)) O (El bomillo 1 está Caliente Y El interruptor 2 está Encendido y luego apagado)))) Y (El Interruptor 3 pertenece a bombillo 1 sii (((El bomillo 1 está Encendido Y El interruptor 3 está Encendido) O (El bomillo 1 está Apagado Y El interruptor 3 está Apagado)) O (El bomillo 1 está Caliente Y El interruptor 3 está Encendido y luego apagado)))) Y (El Interruptor 1 pertenece a bombillo 2 sii (((El bomillo 2 está Encendido Y El interruptor 1 está Encendido) O (El bomillo 2 está Apagado Y El interruptor 1 está Apagado)) O (El bomillo 2 está Caliente Y El interruptor 1 está Encendido y luego apagado)))) Y (El Interruptor 2 pertenece a bombillo 2 sii (((El bomillo 2 está Encendido Y El interruptor 2 está Encendido) O (El bomillo 2 está Apagado Y El interruptor 2 está Apagado)) O (El bomillo 2 está Caliente Y El interruptor 2 está Encendido y luego apagado)))) Y (El Interruptor 3 pertenece a bombillo 2 sii (((El bomillo 2 está Encendido Y El interruptor 3 está Encendido) O (El bomillo 2 está Apagado Y El interruptor 3 está Apagado)) O (El bomillo 2 está Caliente Y El interruptor 3 está Encendido y luego apagado)))) Y (El Interruptor 1 pertenece a bombillo 3 sii (((El bomillo 3 está Encendido Y El interruptor 1 está Encendido) O (El bomillo 3 está Apagado Y El interruptor 1 está Apagado)) O (El bomillo 3 está Caliente Y El interruptor 1 está Encendido y luego apagado)))) Y (El Interruptor 2 pertenece a bombillo 3 sii (((El bomillo 3 está Encendido Y El interruptor 2 está Encendido) O (El bomillo 3 está Apagado Y El interruptor 2 está Apagado)) O (El bomillo 3 está Caliente Y El interruptor 2 está Encendido y luego apagado)))) Y (El Interruptor 3 pertenece a bombillo 3 sii (((El bomillo 3 está Encendido Y El interruptor 3 está Encendido) O (El bomillo 3 está Apagado Y El interruptor 3 está Apagado)) O (El bomillo 3 está Caliente Y El interruptor 3 está Encendido y luego apagado)))) Y ((((El Interruptor 1 pertenece a bombillo 1 O El Interruptor 2 pertenece a bombillo 1) O El Interruptor 3 pertenece a bombillo 1) Y ((El Interruptor 1 pertenece a bombillo 2 O El Interruptor 2 pertenece a bombillo 2) O El Interruptor 3 pertenece a bombillo 2)) Y ((El Interruptor 1 pertenece a bombillo 3 O El Interruptor 2 pertenece a bombillo 3) O El Interruptor 3 pertenece a bombillo 3))) Y ((((El Interruptor 1 pertenece a bombillo 1 O El Interruptor 1 pertenece a bombillo 2) O El Interruptor 1 pertenece a bombillo 3) Y ((El Interruptor 2 pertenece a bombillo 1 O El Interruptor 2 pertenece a bombillo 2) O El Interruptor 2 pertenece a bombillo 3)) Y ((El Interruptor 3 pertenece a bombillo 1 O El Interruptor 3 pertenece a bombillo 2) O El Interruptor 3 pertenece a bombillo 3))) Y (((((((((El Interruptor 1 pertenece a bombillo 1 >  no (El Interruptor 2 pertenece a bombillo 1 O El Interruptor 3 pertenece a bombillo 1)) Y (El Interruptor 2 pertenece a bombillo 1 >  no (El Interruptor 1 pertenece a bombillo 1 O El Interruptor 3 pertenece a bombillo 1))) Y (El Interruptor 3 pertenece a bombillo 1 >  no (El Interruptor 1 pertenece a bombillo 1 O El Interruptor 2 pertenece a bombillo 1))) Y (El Interruptor 1 pertenece a bombillo 2 >  no (El Interruptor 2 pertenece a bombillo 2 O El Interruptor 3 pertenece a bombillo 2))) Y (El Interruptor 2 pertenece a bombillo 2 >  no (El Interruptor 1 pertenece a bombillo 2 O El Interruptor 3 pertenece a bombillo 2))) Y (El Interruptor 3 pertenece a bombillo 2 >  no (El Interruptor 1 pertenece a bombillo 2 O El Interruptor 2 pertenece a bombillo 2))) Y (El Interruptor 1 pertenece a bombillo 3 >  no (El Interruptor 2 pertenece a bombillo 3 O El Interruptor 3 pertenece a bombillo 3))) Y (El Interruptor 2 pertenece a bombillo 3 >  no (El Interruptor 1 pertenece a bombillo 3 O El Interruptor 3 pertenece a bombillo 3))) Y (El Interruptor 3 pertenece a bombillo 3 >  no (El Interruptor 1 pertenece a bombillo 3 O El Interruptor 2 pertenece a bombillo 3)))) Y (((((((((El Interruptor 1 pertenece a bombillo 1 >  no (El Interruptor 1 pertenece a bombillo 2 O El Interruptor 1 pertenece a bombillo 3)) Y (El Interruptor 1 pertenece a bombillo 2 >  no (El Interruptor 1 pertenece a bombillo 1 O El Interruptor 1 pertenece a bombillo 3))) Y (El Interruptor 1 pertenece a bombillo 3 >  no (El Interruptor 1 pertenece a bombillo 1 O El Interruptor 1 pertenece a bombillo 2))) Y (El Interruptor 2 pertenece a bombillo 1 >  no (El Interruptor 2 pertenece a bombillo 2 O El Interruptor 2 pertenece a bombillo 3))) Y (El Interruptor 2 pertenece a bombillo 2 >  no (El Interruptor 2 pertenece a bombillo 1 O El Interruptor 2 pertenece a bombillo 3))) Y (El Interruptor 2 pertenece a bombillo 3 >  no (El Interruptor 2 pertenece a bombillo 1 O El Interruptor 2 pertenece a bombillo 2))) Y (El Interruptor 3 pertenece a bombillo 1 >  no (El Interruptor 3 pertenece a bombillo 2 O El Interruptor 3 pertenece a bombillo 3))) Y (El Interruptor 3 pertenece a bombillo 2 >  no (El Interruptor 3 pertenece a bombillo 1 O El Interruptor 3 pertenece a bombillo 3))) Y (El Interruptor 3 pertenece a bombillo 3 >  no (El Interruptor 3 pertenece a bombillo 1 O El Interruptor 3 pertenece a bombillo 2))))'"
      ]
     },
     "execution_count": 9,
     "metadata": {},
     "output_type": "execute_result"
    }
   ],
   "source": [
    "problemaa.escribirFormula(Ytoria(problemaa.regla)) # todas las reglas impresas como una sola"
   ]
  },
  {
   "cell_type": "code",
   "execution_count": 11,
   "metadata": {},
   "outputs": [],
   "source": [
    "result, dicc = dpll(tseitinn, {}) # paso el seitin al ddpl y luego guardo las representaciones en un ciccionario vacio (V o F)"
   ]
  },
  {
   "cell_type": "code",
   "execution_count": 12,
   "metadata": {},
   "outputs": [
    {
     "name": "stdout",
     "output_type": "stream",
     "text": [
      "El bomillo 2 está Encendido True\n",
      "El interruptor 3 está Encendido True\n",
      "El Interruptor 3 pertenece a bombillo 2 True\n",
      "El Interruptor 1 pertenece a bombillo 3 True\n",
      "El Interruptor 2 pertenece a bombillo 1 True\n",
      "El bomillo 3 está Caliente True\n",
      "El bomillo 1 está Apagado True\n",
      "El interruptor 2 está Apagado True\n",
      "El interruptor 1 está Encendido y luego apagado True\n"
     ]
    }
   ],
   "source": [
    "for k in dicc:# recorre el diccionario\n",
    "    if ord(k) < 256 + 27 and dicc[k]:# filtra (para sacar las letras extra se tseitin)\n",
    "        print(problemaa.escribirFormula(k), dicc[k]) #imprimir el resultado (solo lo verdadero)"
   ]
  },
  {
   "cell_type": "code",
   "execution_count": 13,
   "metadata": {},
   "outputs": [
    {
     "data": {
      "image/png": "[encoded data removed]",
      "text/plain": [
       "<Figure size 600x600 with 1 Axes>"
      ]
     },
     "metadata": {},
     "output_type": "display_data"
    }
   ],
   "source": [
    "problemaa.visualizar(dicc) # visualizacion del problema"
   ]
  },
  {
   "cell_type": "markdown",
   "metadata": {},
   "source": [
    "colores bombillas:\n",
    "\n",
    "1. <span style=\"color:yellow\">Amarillo</span> -> encendido\n",
    "2. <span style=\"color:gray\">Gris</span> -> apagado\n",
    "3. <span style=\"color:orange\">Naranja</span> -> caliente (se encendio y luego se apago)\n",
    "\n",
    "colores interruptores:\n",
    "\n",
    "1. <font color='#0993D0'>azul</font> -> apagado\n",
    "2. <font color='#00FF00'>verde</font> -> encendido\n",
    "3. <font color='#800080'>morado</font> -> encendido y luego apagado"
   ]
  }
 ],
 "metadata": {
  "kernelspec": {
   "display_name": "Python 3 (ipykernel)",
   "language": "python",
   "name": "python3"
  },
  "language_info": {
   "codemirror_mode": {
    "name": "ipython",
    "version": 3
   },
   "file_extension": ".py",
   "mimetype": "text/x-python",
   "name": "python",
   "nbconvert_exporter": "python",
   "pygments_lexer": "ipython3",
   "version": "3.12.2"
  }
 },
 "nbformat": 4,
 "nbformat_minor": 4
}
