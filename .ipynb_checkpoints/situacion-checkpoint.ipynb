{
 "cells": [
  {
   "cell_type": "markdown",
   "metadata": {},
   "source": [
    "# Problema de los interruptores y las bombillas <a class=\"anchor\" id=\"inicio\"></a>\n",
    "\n",
    "Proyecto final - lógica para ciencias de la computación\n",
    "\n",
    "1. Joseph Doqueresana\n",
    "2. Ivan Moreno"
   ]
  },
  {
   "cell_type": "markdown",
   "metadata": {},
   "source": [
    "## Situación a representar <a class=\"anchor\" id=\"prob\"></a>\n",
    "\n",
    "En una habitación hay tres interruptores y tres bombillas, pero no\n",
    "está claro cuál interruptor controla cada bombilla. Solo puedes\n",
    "ingresar a la habitación una vez. El objetivo es determinar qué\n",
    "interruptor está asociado con qué bombilla utilizando la\n",
    "información observada después de una sola visita a la habitación"
   ]
  },
  {
   "cell_type": "markdown",
   "metadata": {},
   "source": [
    "Información disponible:\n",
    "\n",
    "1. Interruptores: Hay tres interruptores en la habitación, numerados del 1 al 3.\n",
    "2. Bombillas: También hay tres bombillas, numeradas del 1 al 3.\n",
    "3. Estado inicial: Al comienzo, todos los interruptores y bombillas están apagados.\n",
    "4. Acciones permitidas: Solo puedes realizar dos acciones:\n",
    "\n",
    "        a. Encender uno de los interruptores.\n",
    "        b. Ingresar a la habitación."
   ]
  },
  {
   "cell_type": "markdown",
   "metadata": {},
   "source": [
    "Restricciones:\n",
    "\n",
    "1. Una sola visita: Solo se permite ingresar a la habitación una vez.\n",
    "2. Unicidad de la iluminación: Cuando se enciende un interruptor, solo una bombilla se enciende y las otras dos permanecen apagadas.\n",
    "3. Observación de resultados: Después de encender un interruptor y entrar en la habitación, solo puedes observar el estado de las bombillas.\n",
    "\n",
    "Con estas restricciones, aseguramos que cada acción tenga un efecto único y claro en el estado de las bombillas, lo que nos permite deducir correctamente la asociación entre los interruptores\n",
    "y las bombillas."
   ]
  },
  {
   "cell_type": "markdown",
   "metadata": {},
   "source": [
    "## Estrategia de resolución <a class=\"anchor\" id=\"prob\"></a>\n",
    "\n",
    "1. Enciende uno de los interruptores y deja que las bombillas permanezcan encendidas durante un tiempo corto.\n",
    "2. Apaga el interruptor previamente encendido y enciende otro interruptor.\n",
    "3. Ingresa a la habitación y observa el estado de las bombillas.\n",
    "4. Utiliza las observaciones para deducir qué interruptor controla cada bombilla.\n",
    "\n",
    "Encendemos el interruptor 1 y dejamos las bombillas encendidas brevemente.\n",
    "Luego, apagamos el interruptor 1 y encendemos el interruptor 2. Al entrar en\n",
    "la habitación, si identificamos la bombilla como encendida estará relacionada\n",
    "con el interruptor 2,si la bombilla esta apagada pero caliente con el interruptor\n",
    "1 y si la bombilla esta apagada y fría con el interruptor 3.\n",
    "Esta estrategia nos permite determinar qué interruptor controla cada bombilla\n",
    "con una sola visita."
   ]
  },
  {
   "cell_type": "markdown",
   "metadata": {},
   "source": [
    "# Implementación de restricciones <a class=\"anchor\" id=\"imp\"></a>\n",
    "\n",
    "Vamos a representar las posibles combinaciones de estados de las bombillas y los interruptores con proposiciones lógicas. Utilizaremos letras para representar cada elemento y asignaremos valores lógicos para indicar si están encendidos o apagados.\n"
   ]
  },
  {
   "cell_type": "markdown",
   "metadata": {},
   "source": [
    "Regla de encendido único\n",
    "\n",
    "$$\\bigwedge_{i=1}^{3} \\bigwedge_{j \\neq i}^{3} (\\neg B_i \\lor \\neg B_j) \\wedge (A_1 \\lor A_2 \\lor A_3)$$\n",
    "\n",
    "Solo una bombilla puede estar encendida al mismo tiempo"
   ]
  },
  {
   "cell_type": "markdown",
   "metadata": {},
   "source": [
    "Regla de asociación entre interruptores y bombillas\n",
    "\n",
    "$$\\bigwedge_{i=1}^{3} (A_i \\leftrightarrow B_i)$$\n",
    "\n",
    "El estado de cada interruptor debe ser equivalente al estado de su bombilla correspondiente"
   ]
  },
  {
   "cell_type": "markdown",
   "metadata": {},
   "source": [
    "Regla de temperatura\n",
    "\n",
    "$$\\bigwedge_{i=1}^3 \\left( B_i \\leftrightarrow (C_i \\land A_i) \\lor (\\neg B_i \\land C_i \\land H_i) \\lor (\\neg B_i \\land \\neg C_i \\land \\neg H_i) \\right)$$\n",
    "\n",
    "Solo una bombilla puede estar encendida al mismo tiempo"
   ]
  },
  {
   "cell_type": "code",
   "execution_count": 1,
   "metadata": {},
   "outputs": [],
   "source": [
    "from problema import Bombillas\n",
    "from paquete_logico import *"
   ]
  },
  {
   "cell_type": "code",
   "execution_count": 2,
   "metadata": {},
   "outputs": [
    {
     "ename": "Exception",
     "evalue": "¡Cadena inválida!",
     "output_type": "error",
     "traceback": [
      "\u001b[1;31m---------------------------------------------------------------------------\u001b[0m",
      "\u001b[1;31mException\u001b[0m                                 Traceback (most recent call last)",
      "Cell \u001b[1;32mIn[2], line 1\u001b[0m\n\u001b[1;32m----> 1\u001b[0m problemaa \u001b[38;5;241m=\u001b[39m \u001b[43mBombillas\u001b[49m\u001b[43m(\u001b[49m\u001b[43m)\u001b[49m\n",
      "File \u001b[1;32mc:\\Users\\Ivan M\\Desktop\\logica_ddpl\\problema.py:59\u001b[0m, in \u001b[0;36mBombillas.__init__\u001b[1;34m(self)\u001b[0m\n\u001b[0;32m     44\u001b[0m \u001b[38;5;28mself\u001b[39m\u001b[38;5;241m.\u001b[39mreglas \u001b[38;5;241m=\u001b[39m [\n\u001b[0;32m     45\u001b[0m     \u001b[38;5;66;03m# Regla 1: Si una bombilla está encendida, su interruptor también debe estar encendido.\u001b[39;00m\n\u001b[0;32m     46\u001b[0m     \u001b[38;5;28mself\u001b[39m\u001b[38;5;241m.\u001b[39mregla1(),\n\u001b[1;32m   (...)\u001b[0m\n\u001b[0;32m     56\u001b[0m     \u001b[38;5;28mself\u001b[39m\u001b[38;5;241m.\u001b[39mregla6()\n\u001b[0;32m     57\u001b[0m ]\n\u001b[0;32m     58\u001b[0m \u001b[38;5;66;03m# Guardando reglas en forma clausal y letras no propias del descriptor utilizadas por tseitin\u001b[39;00m\n\u001b[1;32m---> 59\u001b[0m \u001b[38;5;28mself\u001b[39m\u001b[38;5;241m.\u001b[39mclausal \u001b[38;5;241m=\u001b[39m \u001b[43mtseitin\u001b[49m\u001b[43m(\u001b[49m\u001b[43mYtoria\u001b[49m\u001b[43m(\u001b[49m\u001b[38;5;28;43mself\u001b[39;49m\u001b[38;5;241;43m.\u001b[39;49m\u001b[43mreglas\u001b[49m\u001b[43m)\u001b[49m\u001b[43m)\u001b[49m\n\u001b[0;32m     60\u001b[0m \u001b[38;5;66;03m# Letras proposicionales\u001b[39;00m\n\u001b[0;32m     61\u001b[0m \u001b[38;5;28mself\u001b[39m\u001b[38;5;241m.\u001b[39mletrasProp \u001b[38;5;241m=\u001b[39m [\u001b[38;5;28mself\u001b[39m\u001b[38;5;241m.\u001b[39mDesc\u001b[38;5;241m.\u001b[39mravel([x, j]) \u001b[38;5;28;01mfor\u001b[39;00m x \u001b[38;5;129;01min\u001b[39;00m \u001b[38;5;28mrange\u001b[39m(\u001b[38;5;241m3\u001b[39m) \u001b[38;5;28;01mfor\u001b[39;00m j \u001b[38;5;129;01min\u001b[39;00m \u001b[38;5;28mrange\u001b[39m(\u001b[38;5;241m2\u001b[39m)]\n",
      "File \u001b[1;32mc:\\Users\\Ivan M\\Desktop\\logica_ddpl\\paquete_logico.py:551\u001b[0m, in \u001b[0;36mtseitin\u001b[1;34m(A)\u001b[0m\n\u001b[0;32m    545\u001b[0m \u001b[38;5;250m\u001b[39m\u001b[38;5;124;03m'''\u001b[39;00m\n\u001b[0;32m    546\u001b[0m \u001b[38;5;124;03mAlgoritmo de transformacion de Tseitin\u001b[39;00m\n\u001b[0;32m    547\u001b[0m \u001b[38;5;124;03mInput: A (cadena) en notacion inorder\u001b[39;00m\n\u001b[0;32m    548\u001b[0m \u001b[38;5;124;03mOutput: B (cadena), Tseitin\u001b[39;00m\n\u001b[0;32m    549\u001b[0m \u001b[38;5;124;03m'''\u001b[39;00m\n\u001b[0;32m    550\u001b[0m \u001b[38;5;66;03m# Creamos letras proposicionales nuevas\u001b[39;00m\n\u001b[1;32m--> 551\u001b[0m f \u001b[38;5;241m=\u001b[39m \u001b[43minorder_to_tree\u001b[49m\u001b[43m(\u001b[49m\u001b[43mA\u001b[49m\u001b[43m)\u001b[49m\n\u001b[0;32m    552\u001b[0m letrasp \u001b[38;5;241m=\u001b[39m f\u001b[38;5;241m.\u001b[39mletras()\n\u001b[0;32m    553\u001b[0m cods_letras \u001b[38;5;241m=\u001b[39m [\u001b[38;5;28mord\u001b[39m(x) \u001b[38;5;28;01mfor\u001b[39;00m x \u001b[38;5;129;01min\u001b[39;00m letrasp]\n",
      "File \u001b[1;32mc:\\Users\\Ivan M\\Desktop\\logica_ddpl\\paquete_logico.py:307\u001b[0m, in \u001b[0;36minorder_to_tree\u001b[1;34m(cadena)\u001b[0m\n\u001b[0;32m    305\u001b[0m             counter \u001b[38;5;241m-\u001b[39m\u001b[38;5;241m=\u001b[39m\u001b[38;5;241m1\u001b[39m\n\u001b[0;32m    306\u001b[0m         \u001b[38;5;28;01melif\u001b[39;00m cadena[i] \u001b[38;5;129;01min\u001b[39;00m conectivos \u001b[38;5;129;01mand\u001b[39;00m counter \u001b[38;5;241m==\u001b[39m \u001b[38;5;241m0\u001b[39m:\n\u001b[1;32m--> 307\u001b[0m             \u001b[38;5;28;01mreturn\u001b[39;00m Binario(cadena[i], \u001b[43minorder_to_tree\u001b[49m\u001b[43m(\u001b[49m\u001b[43mcadena\u001b[49m\u001b[43m[\u001b[49m\u001b[38;5;241;43m1\u001b[39;49m\u001b[43m:\u001b[49m\u001b[43mi\u001b[49m\u001b[43m]\u001b[49m\u001b[43m)\u001b[49m,inorder_to_tree(cadena[i \u001b[38;5;241m+\u001b[39m \u001b[38;5;241m1\u001b[39m:\u001b[38;5;241m-\u001b[39m\u001b[38;5;241m1\u001b[39m]))\n\u001b[0;32m    308\u001b[0m \u001b[38;5;28;01melse\u001b[39;00m:\n\u001b[0;32m    309\u001b[0m     \u001b[38;5;28;01mraise\u001b[39;00m \u001b[38;5;167;01mException\u001b[39;00m(\u001b[38;5;124m'\u001b[39m\u001b[38;5;124m¡Cadena inválida!\u001b[39m\u001b[38;5;124m'\u001b[39m)\n",
      "File \u001b[1;32mc:\\Users\\Ivan M\\Desktop\\logica_ddpl\\paquete_logico.py:307\u001b[0m, in \u001b[0;36minorder_to_tree\u001b[1;34m(cadena)\u001b[0m\n\u001b[0;32m    305\u001b[0m             counter \u001b[38;5;241m-\u001b[39m\u001b[38;5;241m=\u001b[39m\u001b[38;5;241m1\u001b[39m\n\u001b[0;32m    306\u001b[0m         \u001b[38;5;28;01melif\u001b[39;00m cadena[i] \u001b[38;5;129;01min\u001b[39;00m conectivos \u001b[38;5;129;01mand\u001b[39;00m counter \u001b[38;5;241m==\u001b[39m \u001b[38;5;241m0\u001b[39m:\n\u001b[1;32m--> 307\u001b[0m             \u001b[38;5;28;01mreturn\u001b[39;00m Binario(cadena[i], \u001b[43minorder_to_tree\u001b[49m\u001b[43m(\u001b[49m\u001b[43mcadena\u001b[49m\u001b[43m[\u001b[49m\u001b[38;5;241;43m1\u001b[39;49m\u001b[43m:\u001b[49m\u001b[43mi\u001b[49m\u001b[43m]\u001b[49m\u001b[43m)\u001b[49m,inorder_to_tree(cadena[i \u001b[38;5;241m+\u001b[39m \u001b[38;5;241m1\u001b[39m:\u001b[38;5;241m-\u001b[39m\u001b[38;5;241m1\u001b[39m]))\n\u001b[0;32m    308\u001b[0m \u001b[38;5;28;01melse\u001b[39;00m:\n\u001b[0;32m    309\u001b[0m     \u001b[38;5;28;01mraise\u001b[39;00m \u001b[38;5;167;01mException\u001b[39;00m(\u001b[38;5;124m'\u001b[39m\u001b[38;5;124m¡Cadena inválida!\u001b[39m\u001b[38;5;124m'\u001b[39m)\n",
      "    \u001b[1;31m[... skipping similar frames: inorder_to_tree at line 307 (4 times)]\u001b[0m\n",
      "File \u001b[1;32mc:\\Users\\Ivan M\\Desktop\\logica_ddpl\\paquete_logico.py:307\u001b[0m, in \u001b[0;36minorder_to_tree\u001b[1;34m(cadena)\u001b[0m\n\u001b[0;32m    305\u001b[0m             counter \u001b[38;5;241m-\u001b[39m\u001b[38;5;241m=\u001b[39m\u001b[38;5;241m1\u001b[39m\n\u001b[0;32m    306\u001b[0m         \u001b[38;5;28;01melif\u001b[39;00m cadena[i] \u001b[38;5;129;01min\u001b[39;00m conectivos \u001b[38;5;129;01mand\u001b[39;00m counter \u001b[38;5;241m==\u001b[39m \u001b[38;5;241m0\u001b[39m:\n\u001b[1;32m--> 307\u001b[0m             \u001b[38;5;28;01mreturn\u001b[39;00m Binario(cadena[i], inorder_to_tree(cadena[\u001b[38;5;241m1\u001b[39m:i]),\u001b[43minorder_to_tree\u001b[49m\u001b[43m(\u001b[49m\u001b[43mcadena\u001b[49m\u001b[43m[\u001b[49m\u001b[43mi\u001b[49m\u001b[43m \u001b[49m\u001b[38;5;241;43m+\u001b[39;49m\u001b[43m \u001b[49m\u001b[38;5;241;43m1\u001b[39;49m\u001b[43m:\u001b[49m\u001b[38;5;241;43m-\u001b[39;49m\u001b[38;5;241;43m1\u001b[39;49m\u001b[43m]\u001b[49m\u001b[43m)\u001b[49m)\n\u001b[0;32m    308\u001b[0m \u001b[38;5;28;01melse\u001b[39;00m:\n\u001b[0;32m    309\u001b[0m     \u001b[38;5;28;01mraise\u001b[39;00m \u001b[38;5;167;01mException\u001b[39;00m(\u001b[38;5;124m'\u001b[39m\u001b[38;5;124m¡Cadena inválida!\u001b[39m\u001b[38;5;124m'\u001b[39m)\n",
      "File \u001b[1;32mc:\\Users\\Ivan M\\Desktop\\logica_ddpl\\paquete_logico.py:309\u001b[0m, in \u001b[0;36minorder_to_tree\u001b[1;34m(cadena)\u001b[0m\n\u001b[0;32m    307\u001b[0m             \u001b[38;5;28;01mreturn\u001b[39;00m Binario(cadena[i], inorder_to_tree(cadena[\u001b[38;5;241m1\u001b[39m:i]),inorder_to_tree(cadena[i \u001b[38;5;241m+\u001b[39m \u001b[38;5;241m1\u001b[39m:\u001b[38;5;241m-\u001b[39m\u001b[38;5;241m1\u001b[39m]))\n\u001b[0;32m    308\u001b[0m \u001b[38;5;28;01melse\u001b[39;00m:\n\u001b[1;32m--> 309\u001b[0m     \u001b[38;5;28;01mraise\u001b[39;00m \u001b[38;5;167;01mException\u001b[39;00m(\u001b[38;5;124m'\u001b[39m\u001b[38;5;124m¡Cadena inválida!\u001b[39m\u001b[38;5;124m'\u001b[39m)\n",
      "\u001b[1;31mException\u001b[0m: ¡Cadena inválida!"
     ]
    }
   ],
   "source": [
    "problemaa = Bombillas()"
   ]
  }
 ],
 "metadata": {
  "kernelspec": {
   "display_name": "Python 3",
   "language": "python",
   "name": "python3"
  },
  "language_info": {
   "codemirror_mode": {
    "name": "ipython",
    "version": 3
   },
   "file_extension": ".py",
   "mimetype": "text/x-python",
   "name": "python",
   "nbconvert_exporter": "python",
   "pygments_lexer": "ipython3",
   "version": "3.12.2"
  }
 },
 "nbformat": 4,
 "nbformat_minor": 2
}
